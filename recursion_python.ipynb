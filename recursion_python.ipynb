{
 "cells": [
  {
   "cell_type": "code",
   "execution_count": 1,
   "id": "9da86b5a-4005-4724-9009-c53e8f8a096c",
   "metadata": {},
   "outputs": [
    {
     "name": "stdin",
     "output_type": "stream",
     "text": [
      "Enter Number to find Factorial Number:  5\n"
     ]
    },
    {
     "name": "stdout",
     "output_type": "stream",
     "text": [
      "Factorial Of '5!' is '120'\n"
     ]
    }
   ],
   "source": [
    "# 1. find the factorial number of given number using recursion\n",
    "def find_fact(n):\n",
    "    if n <= 1:\n",
    "        return 1\n",
    "    else:\n",
    "        return n* find_fact(n-1)\n",
    "\n",
    "# ask n value \n",
    "n = int(input(\"Enter Number to find Factorial Number: \"))\n",
    "# call the function and pass arguement \n",
    "factorial_found = find_fact(n)\n",
    "# print result\n",
    "print(f\"Factorial Of '{n}!' is '{factorial_found}'\")"
   ]
  },
  {
   "cell_type": "code",
   "execution_count": 15,
   "id": "e7cf49e5-6993-4bff-8e53-65f484d9d3ca",
   "metadata": {},
   "outputs": [
    {
     "name": "stdin",
     "output_type": "stream",
     "text": [
      "Enter The Number to find Fibonacci:  10\n"
     ]
    },
    {
     "name": "stdout",
     "output_type": "stream",
     "text": [
      "Fibonacci of '10' is '55'\n"
     ]
    }
   ],
   "source": [
    "# 2. Find nth Fibonacci using recursion.\n",
    "def find_fibonacci(n):\n",
    "    if n <=1:\n",
    "        return n\n",
    "    else:\n",
    "        return find_fibonacci(n-1) + find_fibonacci(n-2)\n",
    "\n",
    "# ask value \n",
    "n = int(input(\"Enter The Number to find Fibonacci: \"))\n",
    "# call the function \n",
    "fibonacci_found = find_fibonacci(n)\n",
    "# print the result \n",
    "print(f\"Fibonacci of '{n}' is '{fibonacci_found}'\")"
   ]
  },
  {
   "cell_type": "code",
   "execution_count": 7,
   "id": "40360c29-ce22-466c-a496-0438d0a60740",
   "metadata": {},
   "outputs": [
    {
     "name": "stdin",
     "output_type": "stream",
     "text": [
      "Enter Base Value:  2\n",
      "Enter Power:  5\n"
     ]
    },
    {
     "name": "stdout",
     "output_type": "stream",
     "text": [
      "base is '2' and raised'5' and result will be '32'\n"
     ]
    }
   ],
   "source": [
    "# 3. Find Power of Number using recursion method\n",
    "def power_find(n, k):\n",
    "    if k == 0:\n",
    "        return 1\n",
    "    else:\n",
    "        return n * power_find(n, k-1)\n",
    "\n",
    "# ask the values \n",
    "base_val = int(input(\"Enter Base Value: \"))\n",
    "power_of = int(input(\"Enter Power: \"))\n",
    "# call function\n",
    "power_result = power_find(base_val,power_of)\n",
    "# print result \n",
    "print(f\"base is '{base_val}' and raised'{power_of}' and result will be '{power_result}'\")"
   ]
  },
  {
   "cell_type": "code",
   "execution_count": 14,
   "id": "6f1d785a-2a55-494d-a12c-da6829eb6da6",
   "metadata": {},
   "outputs": [
    {
     "name": "stdin",
     "output_type": "stream",
     "text": [
      "Enter The String to find The Length:  python\n"
     ]
    },
    {
     "name": "stdout",
     "output_type": "stream",
     "text": [
      "'python' has '6' length\n"
     ]
    }
   ],
   "source": [
    "# 4. find len of string using recursion\n",
    "def str_len(s):\n",
    "    if not s:\n",
    "        return 0\n",
    "    else:\n",
    "        return 1+ str_len(s[1:])\n",
    "# collect the value \n",
    "string = input(\"Enter The String to find The Length: \")\n",
    "# call function and pass argument \n",
    "len_found = str_len(string)\n",
    "# print the result \n",
    "print(f\"'{string}' has '{len_found}' length\")"
   ]
  },
  {
   "cell_type": "code",
   "execution_count": 9,
   "id": "7bbf53b7-332a-4624-bee9-df641be827d3",
   "metadata": {},
   "outputs": [
    {
     "name": "stdin",
     "output_type": "stream",
     "text": [
      "Enter String to reverse:  Python\n"
     ]
    },
    {
     "name": "stdout",
     "output_type": "stream",
     "text": [
      "Original:  Python\n",
      "Reversed:  nohtyP\n"
     ]
    }
   ],
   "source": [
    "# 5. reverse a string using recursion\n",
    "def reverse_string(rev_str):\n",
    "    if not rev_str:\n",
    "        return \"\"\n",
    "    else: \n",
    "        return reverse_string(rev_str[1:]) + rev_str[0]\n",
    "\n",
    "# callect input\n",
    "your_string = input(\"Enter String to reverse: \")\n",
    "# call function and pass value\n",
    "rev_string = reverse_string(your_string)\n",
    "# print result\n",
    "print(\"Original: \", your_string)\n",
    "print(\"Reversed: \", rev_string)"
   ]
  },
  {
   "cell_type": "code",
   "execution_count": 11,
   "id": "bdf9cc36-2e0f-4418-81a6-77455e7c756d",
   "metadata": {},
   "outputs": [
    {
     "name": "stdin",
     "output_type": "stream",
     "text": [
      "Enter String First:  banana\n",
      "which character would you like to find in string:  a\n"
     ]
    },
    {
     "name": "stdout",
     "output_type": "stream",
     "text": [
      "'3' times 'a' appears in 'banana'\n"
     ]
    }
   ],
   "source": [
    "# 6. find occurences in a string using recursion\n",
    "def occurence_string(string, occu):\n",
    "    if not string:\n",
    "        return 0\n",
    "    elif string[0] == occu:\n",
    "        return 1+ occurence_string(string[1:], occu)\n",
    "    else:\n",
    "        return occurence_string(string[1:], occu)\n",
    "\n",
    "# collect string \n",
    "string = input(\"Enter String First: \").lower()\n",
    "occu = input(\"which character would you like to find in string: \").lower()\n",
    "# run function\n",
    "occurence_count = occurence_string(string, occu)\n",
    "# print result\n",
    "print(f\"'{occurence_count}' times '{occu}' appears in '{string}'\")"
   ]
  },
  {
   "cell_type": "code",
   "execution_count": 12,
   "id": "e4322579-cc1d-4acf-aa33-0be27281685e",
   "metadata": {},
   "outputs": [
    {
     "name": "stdout",
     "output_type": "stream",
     "text": [
      "[1, 2, 3, 4, 2] is not sorted\n"
     ]
    }
   ],
   "source": [
    "# 7. check a list is sorted or not using recursion\n",
    "def sorted_or_not_list(lst):\n",
    "    if len(lst) <= 1:\n",
    "        return True\n",
    "    elif lst[0] > lst[1]:\n",
    "        return False\n",
    "    else:\n",
    "        return sorted_or_not_list(lst[1:])\n",
    "\n",
    "lst = [1,2,3,4,2]\n",
    "# call function\n",
    "if sorted_or_not_list(lst):\n",
    "    print(lst, \"is sorted\")\n",
    "else:\n",
    "    print(lst, \"is not sorted\")"
   ]
  },
  {
   "cell_type": "code",
   "execution_count": 13,
   "id": "5f46ecfe-4fd5-4d75-a332-698cc6717f7d",
   "metadata": {},
   "outputs": [
    {
     "name": "stdin",
     "output_type": "stream",
     "text": [
      "Enter Number to check perfect square or not:  45\n"
     ]
    },
    {
     "name": "stdout",
     "output_type": "stream",
     "text": [
      "45 is not perfect square\n"
     ]
    }
   ],
   "source": [
    "# 8. check if n is perfect square \n",
    "def perfect_square_or_not(n, start=1):\n",
    "    if n == start ** 2:\n",
    "        return True\n",
    "    elif n < start** 2:\n",
    "        return False\n",
    "    else:\n",
    "        return perfect_square_or_not(n, start+1)\n",
    "\n",
    "# ask value to check if is a perfect square\n",
    "number = int(input(\"Enter Number to check perfect square or not: \"))\n",
    "# run function\n",
    "if perfect_square_or_not(number, start=1):\n",
    "    print(number, \"is perfect square\")\n",
    "else:\n",
    "    print(number, \"is not perfect square\")"
   ]
  },
  {
   "cell_type": "code",
   "execution_count": 18,
   "id": "2d93639d-716e-4e98-a5c3-3692916b805b",
   "metadata": {},
   "outputs": [
    {
     "name": "stdin",
     "output_type": "stream",
     "text": [
      "Enter First Number:  36\n",
      "Enter Second Number:  60\n"
     ]
    },
    {
     "name": "stdout",
     "output_type": "stream",
     "text": [
      "'12' is GCD of '36' and '60'\n"
     ]
    }
   ],
   "source": [
    "# 9. find GCD of two numbers using recursion\n",
    "def gcd_found(x, y):\n",
    "    if y == 0:\n",
    "        return x\n",
    "    else:\n",
    "        return gcd_found(y, x%y)\n",
    "\n",
    "# collect value \n",
    "first_num = int(input(\"Enter First Number: \"))\n",
    "sec_num = int(input(\"Enter Second Number: \"))\n",
    "# call the function\n",
    "gcd_found = gcd_found(first_num, sec_num)\n",
    "# print the result \n",
    "print(f\"'{gcd_found}' is GCD of '{first_num}' and '{sec_num}'\")"
   ]
  },
  {
   "cell_type": "code",
   "execution_count": 21,
   "id": "d0cc3211-5a85-4ae7-80cf-5db8a5b1d0ec",
   "metadata": {},
   "outputs": [
    {
     "name": "stdout",
     "output_type": "stream",
     "text": [
      "'15' is sum of '[1, 2, 3, 4, 5]'\n"
     ]
    }
   ],
   "source": [
    "# 10. sum of the list element using recursion method\n",
    "def sum_of_list(lst):\n",
    "    if not lst:\n",
    "        return 0\n",
    "    else:\n",
    "        return lst[0] + sum_of_list(lst[1:])\n",
    "\n",
    "# assign list \n",
    "list_is = [1,2,3,4,5]\n",
    "# call function\n",
    "sum_found = sum_of_list(list_is)\n",
    "# print the result \n",
    "print(f\"'{sum_found}' is sum of '{list_is}'\")"
   ]
  },
  {
   "cell_type": "code",
   "execution_count": 24,
   "id": "9b4d2e38-1822-4fdc-9d13-a7d44b2366b4",
   "metadata": {},
   "outputs": [
    {
     "name": "stdout",
     "output_type": "stream",
     "text": [
      "'15' is some of '96'\n"
     ]
    }
   ],
   "source": [
    "# 11. find the sum of digits of a number using recursion\n",
    "def sum_of_digits(digits):\n",
    "    if digits <= 9:\n",
    "        return digits\n",
    "    else:\n",
    "        return digits % 10 + sum_of_digits(digits // 10)\n",
    "\n",
    "# assign list \n",
    "digits = 96\n",
    "# call the function \n",
    "sum_of_ditits_found = sum_of_digits(digits)\n",
    "# print the result \n",
    "print(f\"'{sum_of_ditits_found}' is some of '{digits}'\")"
   ]
  },
  {
   "cell_type": "code",
   "execution_count": 26,
   "id": "cd60361a-614e-4a60-b3a1-83e677d3c435",
   "metadata": {},
   "outputs": [
    {
     "name": "stdout",
     "output_type": "stream",
     "text": [
      "'9' is length of '[1, 2, 3, 5, 6, 7, 8, 9, 10]'\n"
     ]
    }
   ],
   "source": [
    "# 12. find the length of a list of integers using recursion\n",
    "def len_list_int(int_lst):\n",
    "    if not int_lst:\n",
    "        return 0\n",
    "    else:\n",
    "        return 1 + len_list_int(int_lst[1:])\n",
    "\n",
    "# assign integer list \n",
    "int_list = [1,2,3,5,6,7,8,9,10]\n",
    "# call the funtion\n",
    "int_list_len_found = len_list_int(int_list)\n",
    "# print the result \n",
    "print(f\"'{int_list_len_found}' is length of '{int_list}'\")"
   ]
  },
  {
   "cell_type": "code",
   "execution_count": 28,
   "id": "7e677ae1-bce9-4b79-83e1-207bd9cc95f4",
   "metadata": {},
   "outputs": [
    {
     "name": "stdin",
     "output_type": "stream",
     "text": [
      "Enter a word to check if it's a palindrome:  dad\n"
     ]
    },
    {
     "name": "stdout",
     "output_type": "stream",
     "text": [
      "dad is a palindrome.\n"
     ]
    }
   ],
   "source": [
    "# 13. check if a given string is a palindrome using recursion\n",
    "def is_palindrome(s):\n",
    "    # Base case: an empty string or a string with one character is a palindrome\n",
    "    if len(s) <= 1:\n",
    "        return True\n",
    "    else:\n",
    "        # Check if the first and last characters are the same\n",
    "        if s[0] == s[-1]:\n",
    "            # Recursively check the substring excluding the first and last characters\n",
    "            return is_palindrome(s[1:-1])\n",
    "        else:\n",
    "            return False\n",
    "\n",
    "# Example usage:\n",
    "word = input(\"Enter a word to check if it's a palindrome: \").lower()\n",
    "result = is_palindrome(word)\n",
    "\n",
    "if result:\n",
    "    print(f\"{word} is a palindrome.\")\n",
    "else:\n",
    "    print(f\"{word} is not a palindrome.\")\n"
   ]
  },
  {
   "cell_type": "code",
   "execution_count": null,
   "id": "e62c10df-070c-4465-b076-c23491e24237",
   "metadata": {},
   "outputs": [],
   "source": []
  }
 ],
 "metadata": {
  "kernelspec": {
   "display_name": "Python 3 (ipykernel)",
   "language": "python",
   "name": "python3"
  },
  "language_info": {
   "codemirror_mode": {
    "name": "ipython",
    "version": 3
   },
   "file_extension": ".py",
   "mimetype": "text/x-python",
   "name": "python",
   "nbconvert_exporter": "python",
   "pygments_lexer": "ipython3",
   "version": "3.12.0"
  }
 },
 "nbformat": 4,
 "nbformat_minor": 5
}
